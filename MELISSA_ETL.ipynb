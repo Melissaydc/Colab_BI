{
  "nbformat": 4,
  "nbformat_minor": 0,
  "metadata": {
    "colab": {
      "provenance": [],
      "mount_file_id": "1oKcGorqmep4tDCrUG1UHTRXMl13vJRuu",
      "authorship_tag": "ABX9TyNYspn5syQdf315yKDiNES5",
      "include_colab_link": true
    },
    "kernelspec": {
      "name": "python3",
      "display_name": "Python 3"
    },
    "language_info": {
      "name": "python"
    }
  },
  "cells": [
    {
      "cell_type": "markdown",
      "metadata": {
        "id": "view-in-github",
        "colab_type": "text"
      },
      "source": [
        "<a href=\"https://colab.research.google.com/github/Melissaydc/Colab_BI/blob/main/MELISSA_ETL.ipynb\" target=\"_parent\"><img src=\"https://colab.research.google.com/assets/colab-badge.svg\" alt=\"Open In Colab\"/></a>"
      ]
    },
    {
      "cell_type": "code",
      "execution_count": null,
      "metadata": {
        "id": "sld0Kw2nFtfp"
      },
      "outputs": [],
      "source": [
        "import pandas as pd\n",
        "import sqlite3\n",
        "\n",
        "path = 'drive/MyDrive/dataSet/vendas_filial1.csv'\n",
        "\n",
        "\n",
        "vendas_filial1 = pd.read_csv(path)\n",
        "print( vendas_filial1.head())\n",
        "\n",
        "vendas_filial1['Valor TOTAL'] = vendas_filial1['Quantidade Vendida'] * vendas_filial1['Preço Unitário']\n",
        "\n",
        "\n",
        "print(\"\\n --------------------------------- \\n Dados transformados da filial 1\")\n",
        "print(vendas_filial1.head())\n",
        "\n",
        "vendas_filial1.to_csv('vendas_filial1_transformadas.csv', index=False)\n",
        "\n",
        "dados1 = pd.read_csv('vendas_filial1_transformadas.csv')\n",
        "\n",
        "\n",
        "print(\"\\n --------------------------------- \\n Dados da venda 1 TRANSFORMADOS\")\n",
        "print(dados1.head())"
      ]
    },
    {
      "cell_type": "code",
      "source": [
        "path2 = 'drive/MyDrive/dataSet/vendas_filial2.xlsx'\n",
        "\n",
        "vendas_filial2 = pd.read_excel(path2)\n",
        "print(vendas_filial2.head())\n",
        "\n",
        "vendas_filial2['Valor TOTAL'] = vendas_filial2['Quantidade Vendida'] * vendas_filial2['Preço Unitário']\n",
        "\n",
        "print(\"\\n --------------------------------- \\n Dados transformados da filial 2\")\n",
        "print(vendas_filial2.head())\n",
        "\n",
        "vendas_filial2.to_csv('vendas_filial2_transformadas.csv', index=False)\n",
        "\n",
        "dados2 = pd.read_csv('vendas_filial2_transformadas.csv')\n",
        "\n",
        "print(\"\\n --------------------------------- \\n Dados transformados da filial 2\")\n",
        "print(dados2.head())"
      ],
      "metadata": {
        "id": "JrDZwI7knxdA"
      },
      "execution_count": null,
      "outputs": []
    },
    {
      "cell_type": "code",
      "source": [
        "conn = sqlite3.connect('dados_transformados.db')\n",
        "\n",
        "vendas_filial1.to_sql('vendas_filial1_transformadas', conn, index=False, if_exists='replace')\n",
        "\n",
        "dados_filial1 = pd.read_sql('SELECT * FROM vendas_filial1_transformadas', conn)\n",
        "\n",
        "print(\"Dados transformados da filial 1 (banco de dados sql)\")\n",
        "print(dados_filial1.head())\n",
        "\n",
        "conn.close()"
      ],
      "metadata": {
        "colab": {
          "base_uri": "https://localhost:8080/"
        },
        "id": "KRLJh5Fyosxj",
        "outputId": "c531cfb7-73ac-45ff-c8dc-160ccc1fa88f"
      },
      "execution_count": null,
      "outputs": [
        {
          "output_type": "stream",
          "name": "stdout",
          "text": [
            "Dados transformados da filial 1 (banco de dados sql)\n",
            "   ID do Produto                   Nome do Produto  Quantidade Vendida  \\\n",
            "0            101                Laptop Dell XPS 13                  20   \n",
            "1            102     Smartphone Samsung Galaxy S20                  30   \n",
            "2            103          Monitor LG UltraWide 34\"                  15   \n",
            "3            104  Teclado Mecânico Corsair K95 RGB                  25   \n",
            "4            105        Mouse Logitech MX Master 3                  10   \n",
            "\n",
            "   Preço Unitário  Valor TOTAL  \n",
            "0          1500.0      30000.0  \n",
            "1          1000.0      30000.0  \n",
            "2           600.0       9000.0  \n",
            "3           200.0       5000.0  \n",
            "4            80.0        800.0  \n"
          ]
        }
      ]
    },
    {
      "cell_type": "code",
      "source": [
        "conn = sqlite3.connect('dados_transformados.db')\n",
        "\n",
        "vendas_filial2.to_sql('vendas_filial2_transformadas', conn, index=False, if_exists='replace')\n",
        "\n",
        "dados_filial2 = pd.read_sql('SELECT * FROM vendas_filial2_transformadas', conn)\n",
        "\n",
        "print(\"Dados transformados da filial 2 (banco de dados sql)\")\n",
        "print(dados_filial2.head())\n",
        "conn.close()"
      ],
      "metadata": {
        "colab": {
          "base_uri": "https://localhost:8080/"
        },
        "id": "rWcFxGf1y-nN",
        "outputId": "845d5b7e-f7ad-4f32-aa9d-b5f0fb52e5ab"
      },
      "execution_count": null,
      "outputs": [
        {
          "output_type": "stream",
          "name": "stdout",
          "text": [
            "Dados transformados da filial 2 (banco de dados sql)\n",
            "   ID do Produto                    Nome do Produto  Quantidade Vendida  \\\n",
            "0            201         Impressora HP LaserJet Pro                  12   \n",
            "1            202                    SSD Samsung 1TB                  18   \n",
            "2            203              Tablet Apple iPad Pro                   8   \n",
            "3            204  Smartwatch Samsung Galaxy Watch 4                  14   \n",
            "4            205            Headset HyperX Cloud II                  20   \n",
            "\n",
            "   Preço Unitário  Valor TOTAL  \n",
            "0           250.0       3000.0  \n",
            "1           180.0       3240.0  \n",
            "2           900.0       7200.0  \n",
            "3           300.0       4200.0  \n",
            "4           120.0       2400.0  \n"
          ]
        }
      ]
    },
    {
      "cell_type": "code",
      "source": [
        "!pip install matplotlib-venn"
      ],
      "metadata": {
        "id": "tqEbP5AYOT1-"
      },
      "execution_count": null,
      "outputs": []
    },
    {
      "cell_type": "code",
      "source": [
        "!apt-get -qq install -y libfluidsynth1"
      ],
      "metadata": {
        "id": "KZg7gfMGOT1_"
      },
      "execution_count": null,
      "outputs": []
    }
  ]
}